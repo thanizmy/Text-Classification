{
 "cells": [
  {
   "cell_type": "code",
   "execution_count": 1,
   "id": "f0a2efa1-d2f3-4a29-8f23-fcf216afea19",
   "metadata": {},
   "outputs": [],
   "source": [
    "from datasets import load_dataset\n",
    "\n",
    "ds = load_dataset(\"ThanhT04/tokenized_arxiv-classification\")"
   ]
  },
  {
   "cell_type": "code",
   "execution_count": 2,
   "id": "2dff5593-6c12-4fb4-8b56-81e674c1c6da",
   "metadata": {},
   "outputs": [],
   "source": [
    "ds_train = ds['train']\n",
    "ds_val = ds['validation']\n",
    "ds_test = ds['test']\n",
    "\n",
    "train_text = ds_train['text']\n",
    "train_label = ds_train['label']\n",
    "\n",
    "val_text = ds_val['text']\n",
    "val_label = ds_val['label']\n",
    "\n",
    "test_text = ds_test['text']\n",
    "test_label = ds_test['label']"
   ]
  },
  {
   "cell_type": "code",
   "execution_count": 7,
   "id": "7c125e73-2705-4ab3-af4d-c9bf57c560ba",
   "metadata": {},
   "outputs": [],
   "source": [
    "from transformers import BertTokenizer, BertModel\n",
    "import torch\n",
    "\n",
    "tokenizer = BertTokenizer.from_pretrained('bert-base-uncased')\n",
    "bert_model = BertModel.from_pretrained('bert-base-uncased')\n",
    "device = torch.device(\"cuda\" if torch.cuda.is_available() else \"cpu\")\n",
    "bert_model = bert_model.to(device)\n",
    "\n",
    "def embedding(texts, batch_size = 16):\n",
    "    all_embeddings = []\n",
    "    for i in range (0, len(texts), batch_size):\n",
    "        batch_texts = texts[i:i + batch_size]\n",
    "        inputs = tokenizer(batch_texts, return_tensors = 'pt', padding = True, truncation = True, max_length = 128)\n",
    "        inputs = {key: value.to(device) for key, value in inputs.items()}\n",
    "        with torch.no_grad():\n",
    "            outputs = bert_model(**inputs)\n",
    "            embedding = outputs.last_hidden_state[:,0,:]\n",
    "        all_embeddings.append(embedding)\n",
    "        del inputs, outputs, embedding,\n",
    "        torch.cuda.empty_cache()\n",
    "    return torch.cat(all_embeddings, dim = 0)"
   ]
  },
  {
   "cell_type": "code",
   "execution_count": 8,
   "id": "e20dbee7-1819-430f-81ba-a0c1b401e202",
   "metadata": {},
   "outputs": [],
   "source": [
    "train_embeddings = embedding(train_text, batch_size = 4)"
   ]
  },
  {
   "cell_type": "code",
   "execution_count": 9,
   "id": "b33b49a9-2646-440f-ad1a-29fd83b503a5",
   "metadata": {},
   "outputs": [],
   "source": [
    "val_embeddings = embedding(val_text, batch_size = 4)"
   ]
  },
  {
   "cell_type": "code",
   "execution_count": 13,
   "id": "4f0e5d36-efab-4982-9e75-3e63a357f977",
   "metadata": {},
   "outputs": [
    {
     "data": {
      "text/plain": [
       "28388"
      ]
     },
     "execution_count": 13,
     "metadata": {},
     "output_type": "execute_result"
    }
   ],
   "source": []
  },
  {
   "cell_type": "code",
   "execution_count": 26,
   "id": "86d4e84f-1622-43fe-a188-33fa48a4fa1a",
   "metadata": {},
   "outputs": [],
   "source": [
    "torch.cuda.empty_cache()"
   ]
  },
  {
   "cell_type": "code",
   "execution_count": null,
   "id": "7f465666-eac2-4a2e-b2a5-e82de29ee2ea",
   "metadata": {},
   "outputs": [],
   "source": [
    "# train_embedding_tensor = torch.cat(train_embeddings, dim = 0)"
   ]
  },
  {
   "cell_type": "code",
   "execution_count": 10,
   "id": "d3d861ca-3721-4b64-b7ad-bf91062f1438",
   "metadata": {},
   "outputs": [],
   "source": [
    "import torch.nn as nn\n",
    "import torch.optim as optim\n",
    "from torch.utils.data import TensorDataset, DataLoader\n",
    "\n",
    "y_validation = torch.tensor(val_label, dtype=torch.long)\n",
    "val_dataset = TensorDataset(val_embeddings, y_validation)\n",
    "val_loader = DataLoader(val_dataset, batch_size = 16, shuffle = False)"
   ]
  },
  {
   "cell_type": "code",
   "execution_count": 14,
   "id": "4eb57411-c2cf-483d-8fde-77c256bbd17c",
   "metadata": {},
   "outputs": [],
   "source": [
    "y_train = torch.tensor(train_label, dtype=torch.long)\n",
    "train_dataset = TensorDataset(train_embeddings, y_train)\n",
    "train_loader = DataLoader(train_dataset, batch_size = 16, shuffle = False)"
   ]
  },
  {
   "cell_type": "code",
   "execution_count": 29,
   "id": "f84d9f8e-c30b-4401-bf95-7f3bab5914f1",
   "metadata": {},
   "outputs": [],
   "source": [
    "# feedforward neural network\n",
    "class FNN(nn.Module):\n",
    "    def __init__(self, input_dim, hidden_dim_1, hidden_dim_2, hidden_dim_3, output_dim):\n",
    "        super(FNN, self).__init__()\n",
    "        self.fc1 = nn.Linear(input_dim, hidden_dim_1)\n",
    "        self.relu = nn.ReLU()\n",
    "        self.softmax = nn.Softmax(dim=1)  # Output probability for labels\n",
    "        self.dropout = nn.Dropout(p=0.5)\n",
    "        self.fc2 = nn.Linear(hidden_dim_1, hidden_dim_2)\n",
    "        self.fc3 = nn.Linear(hidden_dim_2, hidden_dim_3)\n",
    "        self.fc4 = nn.Linear(hidden_dim_3, output_dim)\n",
    "        \n",
    "\n",
    "    def forward(self, x):\n",
    "        out = self.fc1(x)\n",
    "        out = self.relu(out)\n",
    "        out = self.dropout(out)\n",
    "        out = self.fc2(out)\n",
    "        out = self.relu(out)\n",
    "        out = self.dropout(out)\n",
    "        out = self.fc3(out)\n",
    "        out = self.softmax(out)\n",
    "        # out = self.relu(out)\n",
    "        # out = self.dropout(out)\n",
    "        # out = self.fc4(out)\n",
    "        return out"
   ]
  },
  {
   "cell_type": "code",
   "execution_count": 30,
   "id": "f29a6d22-4949-4212-b181-e77b0c421d30",
   "metadata": {},
   "outputs": [],
   "source": [
    "INPUT_DIM = 768\n",
    "HIDDEN_DIM_1 = 256\n",
    "HIDDEN_DIM_2 = 128\n",
    "HIDDEN_DIM_3 = 64\n",
    "OUTPUT_DIM = 11\n",
    "\n",
    "model = FNN(INPUT_DIM, HIDDEN_DIM_1, HIDDEN_DIM_2, HIDDEN_DIM_3, OUTPUT_DIM)\n",
    "device = torch.device('cuda' if torch.cuda.is_available() else 'cpu')\n",
    "model = model.to(device)"
   ]
  },
  {
   "cell_type": "code",
   "execution_count": 31,
   "id": "6c1b09f6-f7d6-4cdf-9d8a-4c9d0add729b",
   "metadata": {},
   "outputs": [],
   "source": [
    "loss_fn = nn.CrossEntropyLoss()\n",
    "optimizer = optim.Adam(model.parameters(), lr=0.001)"
   ]
  },
  {
   "cell_type": "code",
   "execution_count": 26,
   "id": "90807f75-5b36-4e55-9dcd-6c8aa5c957bc",
   "metadata": {},
   "outputs": [],
   "source": [
    "def train_model(model, dataloader, loss_fn, optimizer):\n",
    "    model.train()\n",
    "    total_loss = 0\n",
    "    correct_predictions = 0\n",
    "\n",
    "    for batch in dataloader:\n",
    "        inputs, labels = batch\n",
    "        inputs = inputs.to(torch.device('cuda'))\n",
    "        labels = labels.to(torch.device('cuda'))\n",
    "\n",
    "        optimizer.zero_grad()\n",
    "        outputs = model(inputs)\n",
    "        loss = loss_fn(outputs, labels)\n",
    "        loss.backward()\n",
    "        optimizer.step()\n",
    "\n",
    "        total_loss += loss.item()\n",
    "        _, preds = torch.max(outputs, dim= 1)   \n",
    "        correct_predictions += torch.sum(preds == labels)\n",
    "\n",
    "    return correct_predictions.double() / len(dataloader.dataset), total_loss / len(dataloader)"
   ]
  },
  {
   "cell_type": "code",
   "execution_count": 27,
   "id": "29bd6e4b-a414-4b9a-8e40-a4bcc809317f",
   "metadata": {},
   "outputs": [],
   "source": [
    "def eval_model(model, dataloader, loss_fn):\n",
    "    model.eval()\n",
    "    total_loss = 0\n",
    "    correct_predictions = 0\n",
    "\n",
    "    with torch.no_grad():\n",
    "        for batch in dataloader:\n",
    "            inputs, labels = batch\n",
    "           \n",
    "            # Move data to GPU\n",
    "            inputs = inputs.to(torch.device('cuda'))\n",
    "            labels = labels.to(torch.device('cuda'))\n",
    "            \n",
    "            outputs = model(inputs)\n",
    "            loss = loss_fn(outputs, labels)\n",
    "            \n",
    "            total_loss += loss.item()\n",
    "            _, preds = torch.max(outputs, dim=1)\n",
    "            correct_predictions += torch.sum(preds == labels)\n",
    "    return correct_predictions.double() / len(dataloader.dataset), total_loss / len(dataloader)\n",
    "    "
   ]
  },
  {
   "cell_type": "code",
   "execution_count": 33,
   "id": "10c6b9b0-294e-44e3-b9e0-a3ad3e1150b0",
   "metadata": {},
   "outputs": [
    {
     "name": "stdout",
     "output_type": "stream",
     "text": [
      "Epoch 1/10:\n",
      "Train loss: 3.6192331825847357, accuracy: 0.5663660701704946\n",
      "Validation loss: 3.6003731830864196, accuracy: 0.5836\n",
      "Epoch 2/10:\n",
      "Train loss: 3.619981482868463, accuracy: 0.5656263209806961\n",
      "Validation loss: 3.5743350603018595, accuracy: 0.6108\n",
      "Epoch 3/10:\n",
      "Train loss: 3.6165012723627226, accuracy: 0.5690080315626321\n",
      "Validation loss: 3.5774324760315523, accuracy: 0.6088\n",
      "Epoch 4/10:\n",
      "Train loss: 3.6136586146287515, accuracy: 0.5714738621952938\n",
      "Validation loss: 3.620732006753326, accuracy: 0.5640000000000001\n",
      "Epoch 5/10:\n",
      "Train loss: 3.61448578968854, accuracy: 0.5712272791320276\n",
      "Validation loss: 3.5764967058874237, accuracy: 0.6072000000000001\n",
      "Epoch 6/10:\n",
      "Train loss: 3.6061407506969614, accuracy: 0.5788361279413837\n",
      "Validation loss: 3.5786221756297314, accuracy: 0.6064\n",
      "Epoch 7/10:\n",
      "Train loss: 3.6043755417138756, accuracy: 0.5807735662956179\n",
      "Validation loss: 3.586380785437906, accuracy: 0.5968\n",
      "Epoch 8/10:\n",
      "Train loss: 3.6029733303231253, accuracy: 0.5821121600676342\n",
      "Validation loss: 3.5653720737262895, accuracy: 0.6204000000000001\n",
      "Epoch 9/10:\n",
      "Train loss: 3.606496594791681, accuracy: 0.578906580245174\n",
      "Validation loss: 3.5684625009062945, accuracy: 0.6164000000000001\n",
      "Epoch 10/10:\n",
      "Train loss: 3.6065476800354435, accuracy: 0.5788009017894885\n",
      "Validation loss: 3.5640095085095447, accuracy: 0.6204000000000001\n",
      "Epoch 11/10:\n",
      "Train loss: 3.6007606448589917, accuracy: 0.5842609553332394\n",
      "Validation loss: 3.5704806428046743, accuracy: 0.614\n",
      "Epoch 12/10:\n",
      "Train loss: 3.6002539386211985, accuracy: 0.5853177398900945\n",
      "Validation loss: 3.570366425119388, accuracy: 0.6156\n",
      "Epoch 13/10:\n",
      "Train loss: 3.5999267823931196, accuracy: 0.5853529660419896\n",
      "Validation loss: 3.587944340554013, accuracy: 0.598\n",
      "Epoch 14/10:\n",
      "Train loss: 3.602730367418746, accuracy: 0.5826757784979569\n",
      "Validation loss: 3.570445897472892, accuracy: 0.614\n",
      "Epoch 15/10:\n",
      "Train loss: 3.60483692800495, accuracy: 0.5805622093842469\n",
      "Validation loss: 3.5615995962908316, accuracy: 0.6228\n"
     ]
    }
   ],
   "source": [
    "# Train in 15 epochs\n",
    "for epoch in range(15):\n",
    "    train_acc, train_loss = train_model(model, train_loader, loss_fn, optimizer)\n",
    "    val_acc, val_loss = eval_model(model, val_loader, loss_fn)\n",
    "\n",
    "    print(f\"Epoch {epoch+1}/10:\")\n",
    "    print(f\"Train loss: {train_loss}, accuracy: {train_acc}\")\n",
    "    print(f\"Validation loss: {val_loss}, accuracy: {val_acc}\")"
   ]
  },
  {
   "cell_type": "code",
   "execution_count": null,
   "id": "635d7c56-d70b-4137-952d-0d47d4100cd2",
   "metadata": {},
   "outputs": [],
   "source": []
  }
 ],
 "metadata": {
  "kernelspec": {
   "display_name": "Python 3 (ipykernel)",
   "language": "python",
   "name": "python3"
  },
  "language_info": {
   "codemirror_mode": {
    "name": "ipython",
    "version": 3
   },
   "file_extension": ".py",
   "mimetype": "text/x-python",
   "name": "python",
   "nbconvert_exporter": "python",
   "pygments_lexer": "ipython3",
   "version": "3.10.14"
  }
 },
 "nbformat": 4,
 "nbformat_minor": 5
}
