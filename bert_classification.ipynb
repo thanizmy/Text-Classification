{
 "cells": [
  {
   "cell_type": "markdown",
   "id": "b17fceae-e403-47af-85da-e2970840b2ff",
   "metadata": {},
   "source": [
    "# Dataset with no mathematical symbols and newline characters."
   ]
  },
  {
   "cell_type": "code",
   "execution_count": 3,
   "id": "f0a2efa1-d2f3-4a29-8f23-fcf216afea19",
   "metadata": {},
   "outputs": [
    {
     "data": {
      "application/vnd.jupyter.widget-view+json": {
       "model_id": "61567b63a4a9487d939f4df9593b9a43",
       "version_major": 2,
       "version_minor": 0
      },
      "text/plain": [
       "Downloading readme:   0%|          | 0.00/536 [00:00<?, ?B/s]"
      ]
     },
     "metadata": {},
     "output_type": "display_data"
    },
    {
     "data": {
      "application/vnd.jupyter.widget-view+json": {
       "model_id": "cca368ccdb13491cbf149fa3a6fb5e96",
       "version_major": 2,
       "version_minor": 0
      },
      "text/plain": [
       "Downloading data:   0%|          | 0.00/182M [00:00<?, ?B/s]"
      ]
     },
     "metadata": {},
     "output_type": "display_data"
    },
    {
     "data": {
      "application/vnd.jupyter.widget-view+json": {
       "model_id": "067eb0a7791747bcbf31b162b9448cf1",
       "version_major": 2,
       "version_minor": 0
      },
      "text/plain": [
       "Downloading data:   0%|          | 0.00/181M [00:00<?, ?B/s]"
      ]
     },
     "metadata": {},
     "output_type": "display_data"
    },
    {
     "data": {
      "application/vnd.jupyter.widget-view+json": {
       "model_id": "a3ded98c0ebb4e3694b0eb06784ec288",
       "version_major": 2,
       "version_minor": 0
      },
      "text/plain": [
       "Downloading data:   0%|          | 0.00/181M [00:00<?, ?B/s]"
      ]
     },
     "metadata": {},
     "output_type": "display_data"
    },
    {
     "data": {
      "application/vnd.jupyter.widget-view+json": {
       "model_id": "397f6b04c8094398bf80dcd637f0cc87",
       "version_major": 2,
       "version_minor": 0
      },
      "text/plain": [
       "Downloading data:   0%|          | 0.00/47.5M [00:00<?, ?B/s]"
      ]
     },
     "metadata": {},
     "output_type": "display_data"
    },
    {
     "data": {
      "application/vnd.jupyter.widget-view+json": {
       "model_id": "d81724ed5a6d41ac93ec11ba9dd1c892",
       "version_major": 2,
       "version_minor": 0
      },
      "text/plain": [
       "Downloading data:   0%|          | 0.00/46.9M [00:00<?, ?B/s]"
      ]
     },
     "metadata": {},
     "output_type": "display_data"
    },
    {
     "data": {
      "application/vnd.jupyter.widget-view+json": {
       "model_id": "1090651987064931b91074ae3115005d",
       "version_major": 2,
       "version_minor": 0
      },
      "text/plain": [
       "Generating train split:   0%|          | 0/28388 [00:00<?, ? examples/s]"
      ]
     },
     "metadata": {},
     "output_type": "display_data"
    },
    {
     "data": {
      "application/vnd.jupyter.widget-view+json": {
       "model_id": "9c8e0932071b4732b877750fdfcc3e61",
       "version_major": 2,
       "version_minor": 0
      },
      "text/plain": [
       "Generating validation split:   0%|          | 0/2500 [00:00<?, ? examples/s]"
      ]
     },
     "metadata": {},
     "output_type": "display_data"
    },
    {
     "data": {
      "application/vnd.jupyter.widget-view+json": {
       "model_id": "336a4ca3e2af431a9e8bd4c36c7a1ad7",
       "version_major": 2,
       "version_minor": 0
      },
      "text/plain": [
       "Generating test split:   0%|          | 0/2500 [00:00<?, ? examples/s]"
      ]
     },
     "metadata": {},
     "output_type": "display_data"
    }
   ],
   "source": [
    "from datasets import load_dataset\n",
    "\n",
    "ds = load_dataset(\"ThanhT04/arvix-processed-dataset\")"
   ]
  },
  {
   "cell_type": "code",
   "execution_count": 4,
   "id": "2dff5593-6c12-4fb4-8b56-81e674c1c6da",
   "metadata": {},
   "outputs": [],
   "source": [
    "ds_train = ds['train']\n",
    "ds_val = ds['validation']\n",
    "ds_test = ds['test']\n",
    "\n",
    "train_text = ds_train['text']\n",
    "train_label = ds_train['label']\n",
    "\n",
    "val_text = ds_val['text']\n",
    "val_label = ds_val['label']\n",
    "\n",
    "test_text = ds_test['text']\n",
    "test_label = ds_test['label']"
   ]
  },
  {
   "cell_type": "markdown",
   "id": "90b6db18-f6f0-42b9-90ba-6cff32b6e27a",
   "metadata": {},
   "source": [
    "# Bert tokenization: Get CLS token"
   ]
  },
  {
   "cell_type": "code",
   "execution_count": 8,
   "id": "7c125e73-2705-4ab3-af4d-c9bf57c560ba",
   "metadata": {},
   "outputs": [
    {
     "name": "stderr",
     "output_type": "stream",
     "text": [
      "C:\\Users\\Thanh Tran\\anaconda3\\envs\\final\\lib\\site-packages\\transformers\\tokenization_utils_base.py:1601: FutureWarning: `clean_up_tokenization_spaces` was not set. It will be set to `True` by default. This behavior will be depracted in transformers v4.45, and will be then set to `False` by default. For more details check this issue: https://github.com/huggingface/transformers/issues/31884\n",
      "  warnings.warn(\n"
     ]
    }
   ],
   "source": [
    "from transformers import BertTokenizer, BertModel\n",
    "import torch\n",
    "\n",
    "tokenizer = BertTokenizer.from_pretrained('bert-base-uncased')\n",
    "bert_model = BertModel.from_pretrained('bert-base-uncased')\n",
    "device = torch.device(\"cuda\" if torch.cuda.is_available() else \"cpu\")\n",
    "bert_model = bert_model.to(device)\n",
    "\n",
    "def embedding(texts, batch_size = 16):\n",
    "    all_embeddings = []\n",
    "    for i in range (0, len(texts), batch_size):\n",
    "        batch_texts = texts[i:i + batch_size]\n",
    "        inputs = tokenizer(batch_texts, return_tensors = 'pt', padding = True, truncation = True, max_length = 128)\n",
    "        inputs = {key: value.to(device) for key, value in inputs.items()}\n",
    "        with torch.no_grad():\n",
    "            outputs = bert_model(**inputs)\n",
    "            embedding = outputs.last_hidden_state[:,0,:]\n",
    "        all_embeddings.append(embedding)\n",
    "        del inputs, outputs, embedding,\n",
    "        torch.cuda.empty_cache()\n",
    "    return torch.cat(all_embeddings, dim = 0)"
   ]
  },
  {
   "cell_type": "code",
   "execution_count": 9,
   "id": "e20dbee7-1819-430f-81ba-a0c1b401e202",
   "metadata": {},
   "outputs": [
    {
     "name": "stderr",
     "output_type": "stream",
     "text": [
      "C:\\Users\\Thanh Tran\\anaconda3\\envs\\final\\lib\\site-packages\\transformers\\models\\bert\\modeling_bert.py:439: UserWarning: 1Torch was not compiled with flash attention. (Triggered internally at C:\\actions-runner\\_work\\pytorch\\pytorch\\builder\\windows\\pytorch\\aten\\src\\ATen\\native\\transformers\\cuda\\sdp_utils.cpp:555.)\n",
      "  attn_output = torch.nn.functional.scaled_dot_product_attention(\n"
     ]
    }
   ],
   "source": [
    "train_embeddings = embedding(train_text, batch_size = 8)"
   ]
  },
  {
   "cell_type": "code",
   "execution_count": 10,
   "id": "b33b49a9-2646-440f-ad1a-29fd83b503a5",
   "metadata": {},
   "outputs": [],
   "source": [
    "val_embeddings = embedding(val_text, batch_size = 8)"
   ]
  },
  {
   "cell_type": "code",
   "execution_count": 114,
   "id": "65bb8c60-36a0-4100-a42b-afbbac9f775f",
   "metadata": {},
   "outputs": [],
   "source": [
    "test_embeddings = embedding(test_text, batch_size = 8)"
   ]
  },
  {
   "cell_type": "markdown",
   "id": "308bcdc6-e4d4-4857-9d3d-82109ee36daf",
   "metadata": {},
   "source": [
    "# Test bert outputs on fnn"
   ]
  },
  {
   "cell_type": "code",
   "execution_count": 14,
   "id": "d3d861ca-3721-4b64-b7ad-bf91062f1438",
   "metadata": {},
   "outputs": [],
   "source": [
    "import torch.nn as nn\n",
    "import torch.optim as optim\n",
    "from torch.utils.data import TensorDataset, DataLoader\n",
    "\n",
    "y_validation = torch.tensor(val_label, dtype=torch.long)\n",
    "val_dataset = TensorDataset(val_embeddings, y_validation)\n",
    "val_loader = DataLoader(val_dataset, batch_size = 16, shuffle = False)"
   ]
  },
  {
   "cell_type": "code",
   "execution_count": 15,
   "id": "4eb57411-c2cf-483d-8fde-77c256bbd17c",
   "metadata": {},
   "outputs": [],
   "source": [
    "y_train = torch.tensor(train_label, dtype=torch.long)\n",
    "train_dataset = TensorDataset(train_embeddings, y_train)\n",
    "train_loader = DataLoader(train_dataset, batch_size = 16, shuffle = False)"
   ]
  },
  {
   "cell_type": "code",
   "execution_count": 116,
   "id": "d596f28d-ef57-4843-943d-47d570c3af83",
   "metadata": {},
   "outputs": [],
   "source": [
    "y_test = torch.tensor(test_label, dtype=torch.long)\n",
    "test_dataset = TensorDataset(test_embeddings, y_test)\n",
    "test_loader = DataLoader(test_dataset, batch_size = 16, shuffle = False)"
   ]
  },
  {
   "cell_type": "code",
   "execution_count": 110,
   "id": "f84d9f8e-c30b-4401-bf95-7f3bab5914f1",
   "metadata": {},
   "outputs": [],
   "source": [
    "# feedforward neural network\n",
    "class FNN(nn.Module):\n",
    "    def __init__(self, input_dim, hidden_dim_1, hidden_dim_2, hidden_dim_3, output_dim):\n",
    "        super(FNN, self).__init__()\n",
    "        self.fc1 = nn.Linear(input_dim, hidden_dim_1)\n",
    "        self.relu = nn.ReLU()\n",
    "        self.dropout1 = nn.Dropout(p=0.5)\n",
    "        self.fc2 = nn.Linear(hidden_dim_1, hidden_dim_2)\n",
    "        self.dropout2 = nn.Dropout(p=0.5)\n",
    "        self.fc3 = nn.Linear(hidden_dim_2, output_dim)\n",
    "        # self.dropout3 = nn.Dropout(p=0.4)\n",
    "        # self.fc4 = nn.Linear(hidden_dim_3, output_dim)\n",
    "        \n",
    "    def forward(self, x):\n",
    "        out = self.fc1(x)\n",
    "        out = self.relu(out)\n",
    "        out = self.dropout1(out)\n",
    "        \n",
    "        out = self.fc2(out)\n",
    "        out = self.relu(out)\n",
    "        out = self.dropout2(out)\n",
    "        out = self.fc3(out)\n",
    "        # out = self.relu(out)\n",
    "        # out = self.dropout3(out)\n",
    "        # out = self.fc4(out)\n",
    "        return out"
   ]
  },
  {
   "cell_type": "code",
   "execution_count": 111,
   "id": "f29a6d22-4949-4212-b181-e77b0c421d30",
   "metadata": {},
   "outputs": [],
   "source": [
    "INPUT_DIM = 768\n",
    "HIDDEN_DIM_1 = 256\n",
    "HIDDEN_DIM_2 = 128\n",
    "HIDDEN_DIM_3 = 64\n",
    "OUTPUT_DIM = 11\n",
    "\n",
    "model = FNN(INPUT_DIM, HIDDEN_DIM_1, HIDDEN_DIM_2, HIDDEN_DIM_3, OUTPUT_DIM)\n",
    "device = torch.device('cuda' if torch.cuda.is_available() else 'cpu')\n",
    "model = model.to(device)"
   ]
  },
  {
   "cell_type": "code",
   "execution_count": 112,
   "id": "6c1b09f6-f7d6-4cdf-9d8a-4c9d0add729b",
   "metadata": {},
   "outputs": [],
   "source": [
    "loss_fn = nn.CrossEntropyLoss()\n",
    "optimizer = optim.Adam(model.parameters(), lr=0.00004)"
   ]
  },
  {
   "cell_type": "code",
   "execution_count": 29,
   "id": "90807f75-5b36-4e55-9dcd-6c8aa5c957bc",
   "metadata": {},
   "outputs": [],
   "source": [
    "def train_model(model, dataloader, loss_fn, optimizer):\n",
    "    model.train()\n",
    "    total_loss = 0\n",
    "    correct_predictions = 0\n",
    "\n",
    "    for batch in dataloader:\n",
    "        inputs, labels = batch\n",
    "        inputs = inputs.to(torch.device('cuda'))\n",
    "        labels = labels.to(torch.device('cuda'))\n",
    "\n",
    "        optimizer.zero_grad()\n",
    "        outputs = model(inputs)\n",
    "        loss = loss_fn(outputs, labels)\n",
    "        loss.backward()\n",
    "        optimizer.step()\n",
    "\n",
    "        total_loss += loss.item()\n",
    "        _, preds = torch.max(outputs, dim= 1)   \n",
    "        correct_predictions += torch.sum(preds == labels)\n",
    "\n",
    "    return correct_predictions.double() / len(dataloader.dataset), total_loss / len(dataloader)"
   ]
  },
  {
   "cell_type": "code",
   "execution_count": 30,
   "id": "29bd6e4b-a414-4b9a-8e40-a4bcc809317f",
   "metadata": {},
   "outputs": [],
   "source": [
    "def eval_model(model, dataloader, loss_fn):\n",
    "    model.eval()\n",
    "    total_loss = 0\n",
    "    correct_predictions = 0\n",
    "\n",
    "    with torch.no_grad():\n",
    "        for batch in dataloader:\n",
    "            inputs, labels = batch\n",
    "           \n",
    "            # Move data to GPU\n",
    "            inputs = inputs.to(torch.device('cuda'))\n",
    "            labels = labels.to(torch.device('cuda'))\n",
    "            \n",
    "            outputs = model(inputs)\n",
    "            loss = loss_fn(outputs, labels)\n",
    "            \n",
    "            total_loss += loss.item()\n",
    "            _, preds = torch.max(outputs, dim=1)\n",
    "            correct_predictions += torch.sum(preds == labels)\n",
    "    return correct_predictions.double() / len(dataloader.dataset), total_loss / len(dataloader)\n",
    "    "
   ]
  },
  {
   "cell_type": "code",
   "execution_count": 113,
   "id": "10c6b9b0-294e-44e3-b9e0-a3ad3e1150b0",
   "metadata": {},
   "outputs": [
    {
     "name": "stdout",
     "output_type": "stream",
     "text": [
      "Epoch 1/20:\n",
      "Train loss: 2.0390853423803623, accuracy: 0.2667324221502043\n",
      "Validation loss: 1.6247162052020905, accuracy: 0.5092\n",
      "Epoch 2/20:\n",
      "Train loss: 1.5557642437370731, accuracy: 0.44208820628434553\n",
      "Validation loss: 1.3156356428079545, accuracy: 0.5912000000000001\n",
      "Epoch 3/20:\n",
      "Train loss: 1.3488436086412887, accuracy: 0.5248696632379879\n",
      "Validation loss: 1.182415288724717, accuracy: 0.6268\n",
      "Epoch 4/20:\n",
      "Train loss: 1.2468738576392053, accuracy: 0.5664717486261801\n",
      "Validation loss: 1.1070507510452514, accuracy: 0.6476000000000001\n",
      "Epoch 5/20:\n",
      "Train loss: 1.180677840105245, accuracy: 0.5968014654079189\n",
      "Validation loss: 1.0540115339740825, accuracy: 0.6628000000000001\n",
      "Epoch 6/20:\n",
      "Train loss: 1.1300181571866426, accuracy: 0.6172678596590109\n",
      "Validation loss: 1.0157462867202274, accuracy: 0.6756\n",
      "Epoch 7/20:\n",
      "Train loss: 1.0930759517575654, accuracy: 0.6335071156826829\n",
      "Validation loss: 0.9920137942216958, accuracy: 0.6824\n",
      "Epoch 8/20:\n",
      "Train loss: 1.066061543142292, accuracy: 0.6431238551500634\n",
      "Validation loss: 0.9745547894839268, accuracy: 0.6868000000000001\n",
      "Epoch 9/20:\n",
      "Train loss: 1.04401458585766, accuracy: 0.6503452162885727\n",
      "Validation loss: 0.9601214026949209, accuracy: 0.6964\n",
      "Epoch 10/20:\n",
      "Train loss: 1.024611253125567, accuracy: 0.6582711004649853\n",
      "Validation loss: 0.9473045498702177, accuracy: 0.7004\n",
      "Epoch 11/20:\n",
      "Train loss: 1.0051189485905876, accuracy: 0.6659504015781317\n",
      "Validation loss: 0.9338294780178434, accuracy: 0.7044\n",
      "Epoch 12/20:\n",
      "Train loss: 0.9965594926182653, accuracy: 0.6685923629702691\n",
      "Validation loss: 0.9267108939635526, accuracy: 0.7060000000000001\n",
      "Epoch 13/20:\n",
      "Train loss: 0.9815354534605859, accuracy: 0.6740171903621249\n",
      "Validation loss: 0.9213057701375075, accuracy: 0.7084\n",
      "Epoch 14/20:\n",
      "Train loss: 0.966242831408138, accuracy: 0.6779977455262788\n",
      "Validation loss: 0.9123742346930656, accuracy: 0.7092\n",
      "Epoch 15/20:\n",
      "Train loss: 0.9569933927227074, accuracy: 0.6833873467662394\n",
      "Validation loss: 0.9082763058364771, accuracy: 0.7104\n"
     ]
    }
   ],
   "source": [
    "# Train in  epochs\n",
    "for epoch in range(20):\n",
    "    train_acc, train_loss = train_model(model, train_loader, loss_fn, optimizer)\n",
    "    val_acc, val_loss = eval_model(model, val_loader, loss_fn)\n",
    "\n",
    "    print(f\"Epoch {epoch+1}/20:\")\n",
    "    print(f\"Train loss: {train_loss}, accuracy: {train_acc}\")\n",
    "    print(f\"Validation loss: {val_loss}, accuracy: {val_acc}\")"
   ]
  },
  {
   "cell_type": "code",
   "execution_count": 117,
   "id": "65db3d43-4c5e-4444-a297-36c10b986581",
   "metadata": {},
   "outputs": [
    {
     "name": "stdout",
     "output_type": "stream",
     "text": [
      "Test loss: 0.8436112671521059, accuracy: 0.7148\n"
     ]
    }
   ],
   "source": [
    "test_acc, test_loss = eval_model(model, test_loader, loss_fn)\n",
    "print(f\"Test loss: {test_loss}, accuracy: {test_acc}\")\n"
   ]
  },
  {
   "cell_type": "code",
   "execution_count": null,
   "id": "255387bb-a291-44c0-b3b1-0a3885f56c1e",
   "metadata": {},
   "outputs": [],
   "source": []
  }
 ],
 "metadata": {
  "kernelspec": {
   "display_name": "Python 3 (ipykernel)",
   "language": "python",
   "name": "python3"
  },
  "language_info": {
   "codemirror_mode": {
    "name": "ipython",
    "version": 3
   },
   "file_extension": ".py",
   "mimetype": "text/x-python",
   "name": "python",
   "nbconvert_exporter": "python",
   "pygments_lexer": "ipython3",
   "version": "3.10.14"
  }
 },
 "nbformat": 4,
 "nbformat_minor": 5
}
